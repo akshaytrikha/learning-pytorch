{
 "cells": [
  {
   "cell_type": "markdown",
   "id": "fe32b756",
   "metadata": {},
   "source": [
    "# Linear Regression on Tabular Data"
   ]
  },
  {
   "cell_type": "markdown",
   "id": "3d7958aa",
   "metadata": {},
   "source": [
    "### Re-implementation from [Daniel Bourke](https://www.learnpytorch.io/01_pytorch_workflow/?ref=daniel-bourke#1-data-preparing-and-loading)"
   ]
  },
  {
   "cell_type": "code",
   "execution_count": 1,
   "id": "955fa1f7",
   "metadata": {},
   "outputs": [],
   "source": [
    "import torch\n",
    "from torch import nn\n",
    "import matplotlib.pyplot as plt\n",
    "\n",
    "SEED_VAL = 100 # for reproduceability in torch.randn()"
   ]
  },
  {
   "cell_type": "markdown",
   "id": "d1281d37",
   "metadata": {},
   "source": [
    "### Assemble data"
   ]
  },
  {
   "cell_type": "code",
   "execution_count": 2,
   "id": "01133ab8",
   "metadata": {},
   "outputs": [
    {
     "name": "stdout",
     "output_type": "stream",
     "text": [
      "tensor([[0.0000],\n",
      "        [0.0200],\n",
      "        [0.0400],\n",
      "        [0.0600],\n",
      "        [0.0800],\n",
      "        [0.1000],\n",
      "        [0.1200],\n",
      "        [0.1400],\n",
      "        [0.1600],\n",
      "        [0.1800]])\n",
      "torch.Size([50, 1])\n",
      "tensor([[0.3000],\n",
      "        [0.3140],\n",
      "        [0.3280],\n",
      "        [0.3420],\n",
      "        [0.3560],\n",
      "        [0.3700],\n",
      "        [0.3840],\n",
      "        [0.3980],\n",
      "        [0.4120],\n",
      "        [0.4260]])\n"
     ]
    }
   ],
   "source": [
    "# create *known* parameters\n",
    "weight = 0.7\n",
    "bias = 0.3\n",
    "\n",
    "# generate data\n",
    "X = torch.arange(start=0, end=1, step=0.02).unsqueeze(dim=1)\n",
    "y = weight * X + bias\n",
    "\n",
    "print(X[:10]) \n",
    "print(X.shape)\n",
    "print(y[:10])"
   ]
  },
  {
   "cell_type": "code",
   "execution_count": 3,
   "id": "42eccbee",
   "metadata": {},
   "outputs": [
    {
     "data": {
      "text/plain": [
       "Text(0.5, 1.0, 'ground truth')"
      ]
     },
     "execution_count": 3,
     "metadata": {},
     "output_type": "execute_result"
    },
    {
     "data": {
      "image/png": "[encoded data removed]",
      "text/plain": [
       "<Figure size 640x480 with 1 Axes>"
      ]
     },
     "metadata": {},
     "output_type": "display_data"
    }
   ],
   "source": [
    "plt.scatter(X, y)\n",
    "plt.title('ground truth')\n",
    "# plt.legend(['ground truth', 'fit']);"
   ]
  },
  {
   "cell_type": "code",
   "execution_count": 4,
   "id": "4822fa60",
   "metadata": {},
   "outputs": [
    {
     "data": {
      "text/plain": [
       "(40, 5, 5)"
      ]
     },
     "execution_count": 4,
     "metadata": {},
     "output_type": "execute_result"
    }
   ],
   "source": [
    "# split dataset\n",
    "train_split = int(0.8 * len(X)) # 80% of data used for training set, 10% for validation, 10% for testing\n",
    "dev_split = int(0.9 * len(X))\n",
    "\n",
    "X_train, y_train = X[:train_split], y[:train_split]\n",
    "X_dev, y_dev = X[train_split:dev_split], y[train_split:dev_split]\n",
    "X_test, y_test = X[dev_split:], y[dev_split:]\n",
    "\n",
    "len(X_train), len(X_dev), len(X_test)"
   ]
  },
  {
   "cell_type": "markdown",
   "id": "928543e1",
   "metadata": {},
   "source": [
    "### Build model"
   ]
  },
  {
   "cell_type": "code",
   "execution_count": 5,
   "id": "afe04091",
   "metadata": {},
   "outputs": [],
   "source": [
    "class LinearRegressionModel(nn.Module):\n",
    "    def __init__(self):\n",
    "        super().__init__()\n",
    "        # only 1 weight and bias\n",
    "        self.weights = nn.Parameter(torch.randn(1, requires_grad=True, dtype=torch.float))\n",
    "        \n",
    "        self.bias = nn.Parameter(torch.randn(1, requires_grad=True, dtype=torch.float))\n",
    "        \n",
    "    def forward(self, x: torch.Tensor):\n",
    "        return (self.weights * x) + self.bias"
   ]
  },
  {
   "cell_type": "code",
   "execution_count": 6,
   "id": "7bdfbec7",
   "metadata": {},
   "outputs": [
    {
     "name": "stdout",
     "output_type": "stream",
     "text": [
      "[Parameter containing:\n",
      "tensor([0.3607], requires_grad=True), Parameter containing:\n",
      "tensor([-0.2859], requires_grad=True)]\n"
     ]
    }
   ],
   "source": [
    "# seed for reproduceability\n",
    "torch.manual_seed(SEED_VAL)\n",
    "\n",
    "# initialize model with random parameters\n",
    "model = LinearRegressionModel()\n",
    "\n",
    "print(list(model.parameters()))"
   ]
  },
  {
   "cell_type": "code",
   "execution_count": 7,
   "id": "93464e89",
   "metadata": {},
   "outputs": [
    {
     "name": "stdout",
     "output_type": "stream",
     "text": [
      "OrderedDict([('weights', tensor([0.3607])), ('bias', tensor([-0.2859]))])\n"
     ]
    }
   ],
   "source": [
    "print(model.state_dict())"
   ]
  },
  {
   "cell_type": "markdown",
   "id": "9adf8946",
   "metadata": {},
   "source": [
    "### Train model"
   ]
  },
  {
   "cell_type": "code",
   "execution_count": 8,
   "id": "73f794fa",
   "metadata": {},
   "outputs": [],
   "source": [
    "# create a loss function\n",
    "loss_fn = nn.MSELoss() \n",
    "\n",
    "# optimizer will update parameters with gradients calculated from backpropagation\n",
    "optim = torch.optim.SGD(params=model.parameters(), lr=0.01)"
   ]
  },
  {
   "cell_type": "code",
   "execution_count": 9,
   "id": "a5df5d8c",
   "metadata": {},
   "outputs": [
    {
     "name": "stdout",
     "output_type": "stream",
     "text": [
      "Epoch: 0 | Train Loss: 0.5220428705215454 | Dev Loss: 0.7253028750419617 \n",
      "Epoch: 10 | Train Loss: 0.32666802406311035 | Dev Loss: 0.463650643825531 \n",
      "Epoch: 20 | Train Loss: 0.20446214079856873 | Dev Loss: 0.2979274094104767 \n",
      "Epoch: 30 | Train Loss: 0.12802210450172424 | Dev Loss: 0.19265088438987732 \n",
      "Epoch: 40 | Train Loss: 0.08020783960819244 | Dev Loss: 0.12553152441978455 \n",
      "Epoch: 50 | Train Loss: 0.05029844120144844 | Dev Loss: 0.08255185186862946 \n",
      "Epoch: 60 | Train Loss: 0.031588297337293625 | Dev Loss: 0.05488539859652519 \n",
      "Epoch: 70 | Train Loss: 0.019883129745721817 | Dev Loss: 0.0369650274515152 \n",
      "Epoch: 80 | Train Loss: 0.012559471651911736 | Dev Loss: 0.02527216076850891 \n",
      "Epoch: 90 | Train Loss: 0.00797642208635807 | Dev Loss: 0.01757768727838993 \n",
      "Epoch: 100 | Train Loss: 0.00510761421173811 | Dev Loss: 0.012464962899684906 \n",
      "Epoch: 110 | Train Loss: 0.0033110666554421186 | Dev Loss: 0.009030468761920929 \n",
      "Epoch: 120 | Train Loss: 0.0021852320060133934 | Dev Loss: 0.0066953687928617 \n",
      "Epoch: 130 | Train Loss: 0.0014789672568440437 | Dev Loss: 0.005086907651275396 \n",
      "Epoch: 140 | Train Loss: 0.0010351644596084952 | Dev Loss: 0.0039635091088712215 \n",
      "Epoch: 150 | Train Loss: 0.0007555677439086139 | Dev Loss: 0.0031674825586378574 \n",
      "Epoch: 160 | Train Loss: 0.0005787143018096685 | Dev Loss: 0.0025950439739972353 \n",
      "Epoch: 170 | Train Loss: 0.00046616047620773315 | Dev Loss: 0.0021772277541458607 \n",
      "Epoch: 180 | Train Loss: 0.0003938622830901295 | Dev Loss: 0.0018677266780287027 \n",
      "Epoch: 190 | Train Loss: 0.0003467758069746196 | Dev Loss: 0.0016350861405953765 \n",
      "Epoch: 200 | Train Loss: 0.000315492827212438 | Dev Loss: 0.0014576788526028395 \n",
      "Epoch: 210 | Train Loss: 0.00029412881121970713 | Dev Loss: 0.0013204712886363268 \n",
      "Epoch: 220 | Train Loss: 0.0002790020953398198 | Dev Loss: 0.001212845672853291 \n",
      "Epoch: 230 | Train Loss: 0.0002678078890312463 | Dev Loss: 0.0011272268602624536 \n",
      "Epoch: 240 | Train Loss: 0.00025910662952810526 | Dev Loss: 0.0010581430979073048 \n",
      "Epoch: 250 | Train Loss: 0.0002519935369491577 | Dev Loss: 0.001001585042104125 \n",
      "Epoch: 260 | Train Loss: 0.0002459055685903877 | Dev Loss: 0.0009546050569042563 \n",
      "Epoch: 270 | Train Loss: 0.00024048816703725606 | Dev Loss: 0.0009149970719590783 \n",
      "Epoch: 280 | Train Loss: 0.0002355195756535977 | Dev Loss: 0.0008811031584627926 \n",
      "Epoch: 290 | Train Loss: 0.0002308611001353711 | Dev Loss: 0.0008516708621755242 \n"
     ]
    }
   ],
   "source": [
    "torch.manual_seed(SEED_VAL)\n",
    "\n",
    "epochs = 300\n",
    "\n",
    "# for tracking learning\n",
    "train_loss_values = []\n",
    "dev_loss_values = []\n",
    "epoch_count = []\n",
    "\n",
    "\n",
    "# ----------- train loop -----------\n",
    "for epoch in range(epochs):\n",
    "    # \"training\" mode\n",
    "    model.train()\n",
    "    \n",
    "    # forward pass\n",
    "    y_pred = model(X_train)\n",
    "    \n",
    "    # calculate loss\n",
    "    loss = loss_fn(y_pred, y_train)\n",
    "    \n",
    "    # clear optimizer accumulation\n",
    "    optim.zero_grad()\n",
    "    \n",
    "    # calcualte gradients via backpropagation\n",
    "    loss.backward()\n",
    "    \n",
    "    # update parameters\n",
    "    optim.step()\n",
    "    \n",
    "    # ----------- validation -----------\n",
    "    if epoch % 10 == 0:\n",
    "        with torch.inference_mode():\n",
    "            # forward pass\n",
    "            y_pred_dev = model(X_dev)\n",
    "\n",
    "            loss_dev = loss_fn(y_pred_dev, y_dev)\n",
    "        \n",
    "        train_loss_values += [loss.detach().numpy()]\n",
    "        dev_loss_values += [loss_dev.detach().numpy()]\n",
    "        epoch_count += [epoch]\n",
    "        \n",
    "        print(f\"Epoch: {epoch} | Train Loss: {loss} | Dev Loss: {loss_dev} \")"
   ]
  },
  {
   "cell_type": "code",
   "execution_count": 10,
   "id": "94146b10",
   "metadata": {},
   "outputs": [
    {
     "data": {
      "image/png": "[encoded data removed]",
      "text/plain": [
       "<Figure size 640x480 with 1 Axes>"
      ]
     },
     "metadata": {},
     "output_type": "display_data"
    }
   ],
   "source": [
    "# Plot the loss curves\n",
    "plt.plot(epoch_count, train_loss_values, label=\"Train loss\")\n",
    "plt.plot(epoch_count, dev_loss_values, label=\"Dev loss\")\n",
    "plt.title(\"Training and Validation Loss Curves\")\n",
    "plt.ylabel(\"Loss\")\n",
    "plt.xlabel(\"Epochs\")\n",
    "plt.legend();"
   ]
  },
  {
   "cell_type": "code",
   "execution_count": 11,
   "id": "fa8b8636",
   "metadata": {},
   "outputs": [],
   "source": [
    "# ----------- test loop -----------\n",
    "test_loss_values = []\n",
    "\n",
    "for i in range(len(X_test)):\n",
    "    with torch.inference_mode():\n",
    "        # forward pass\n",
    "        y_pred_test = model(X_test)\n",
    "\n",
    "        loss_test = loss_fn(y_pred_test, y_test)"
   ]
  },
  {
   "cell_type": "code",
   "execution_count": 12,
   "id": "8257be67",
   "metadata": {},
   "outputs": [
    {
     "name": "stdout",
     "output_type": "stream",
     "text": [
      "tensor(0.0009)\n",
      "tensor(0.0012)\n"
     ]
    }
   ],
   "source": [
    "# compare validation loss to test loss\n",
    "print(loss_dev)\n",
    "print(loss_test)"
   ]
  },
  {
   "cell_type": "code",
   "execution_count": 13,
   "id": "2d30e271",
   "metadata": {},
   "outputs": [
    {
     "data": {
      "image/png": "[encoded data removed]",
      "text/plain": [
       "<Figure size 640x480 with 1 Axes>"
      ]
     },
     "metadata": {},
     "output_type": "display_data"
    }
   ],
   "source": [
    "plt.scatter(X, y)\n",
    "plt.title('Ground Truth vs. Inference')\n",
    "plt.scatter(X_test, y_pred_test)\n",
    "plt.legend(['Ground Truth', 'Inference']);"
   ]
  },
  {
   "cell_type": "code",
   "execution_count": 14,
   "id": "1d73b9a1",
   "metadata": {},
   "outputs": [
    {
     "name": "stdout",
     "output_type": "stream",
     "text": [
      "The model learned the following values for weights and bias:\n",
      "OrderedDict([('weights', tensor([0.6349])), ('bias', tensor([0.3260]))])\n",
      "\n",
      "And the original values for weights and bias are:\n",
      "weights: 0.7, bias: 0.3\n"
     ]
    }
   ],
   "source": [
    "# Find our model's learned parameters\n",
    "print(\"The model learned the following values for weights and bias:\")\n",
    "print(model.state_dict())\n",
    "print(\"\\nAnd the original values for weights and bias are:\")\n",
    "print(f\"weights: {weight}, bias: {bias}\")"
   ]
  }
 ],
 "metadata": {
  "kernelspec": {
   "display_name": "Python 3 (ipykernel)",
   "language": "python",
   "name": "python3"
  },
  "language_info": {
   "codemirror_mode": {
    "name": "ipython",
    "version": 3
   },
   "file_extension": ".py",
   "mimetype": "text/x-python",
   "name": "python",
   "nbconvert_exporter": "python",
   "pygments_lexer": "ipython3",
   "version": "3.9.12"
  }
 },
 "nbformat": 4,
 "nbformat_minor": 5
}
